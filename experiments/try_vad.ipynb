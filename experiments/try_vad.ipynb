{
 "cells": [
  {
   "cell_type": "code",
   "execution_count": 1,
   "metadata": {},
   "outputs": [],
   "source": [
    "import pyaudio\n",
    "import webrtcvad\n",
    "import threading\n",
    "import queue\n",
    "import wave\n",
    "from IPython.display import Audio\n",
    "from pydub import AudioSegment\n",
    "from scipy.io import wavfile\n",
    "import numpy as np\n"
   ]
  },
  {
   "cell_type": "code",
   "execution_count": 2,
   "metadata": {},
   "outputs": [],
   "source": [
    "vad = webrtcvad.Vad()\n",
    "vad.set_mode(2)\n"
   ]
  },
  {
   "cell_type": "code",
   "execution_count": 12,
   "metadata": {},
   "outputs": [],
   "source": [
    "audio = AudioSegment.from_wav(\"../uploads/devasheesh/test.wav\")\n",
    "audio = audio.set_channels(1)\n",
    "audio = audio.set_frame_rate(16000).raw_data\n"
   ]
  },
  {
   "cell_type": "code",
   "execution_count": 21,
   "metadata": {},
   "outputs": [],
   "source": [
    "def extract_100ms(audio_bytes, target_channels=1, target_sample_rate=16000):\n",
    "    # Create an AudioSegment object from the bytes\n",
    "    audio = AudioSegment(\n",
    "        audio_bytes,\n",
    "        sample_width=2,  # Assuming 16-bit audio\n",
    "        channels=target_channels,\n",
    "        frame_rate=target_sample_rate\n",
    "    )\n",
    "    \n",
    "    # Extract a 100ms segment\n",
    "    segment_100ms = audio[:1000]  # Extract the first 100ms\n",
    "    \n",
    "    # Export the segment to bytes\n",
    "    segment_bytes = segment_100ms.raw_data\n",
    "    \n",
    "    return segment_bytes\n",
    "\n",
    "temp = extract_100ms(audio)\n"
   ]
  },
  {
   "cell_type": "code",
   "execution_count": 29,
   "metadata": {},
   "outputs": [],
   "source": [
    "def apply_vad(audio_bytes, sample_rate=16000, vad_mode=1):\n",
    "    # Convert bytes to numpy array\n",
    "    audio_array = np.frombuffer(audio_bytes, dtype=np.int16)\n",
    "    \n",
    "    # Initialize VAD\n",
    "    vad = webrtcvad.Vad()\n",
    "    vad.set_mode(vad_mode)\n",
    "\n",
    "    # Check if there is speech in the 100ms segment\n",
    "    length = int(0.1 * sample_rate)\n",
    "    # is_speech = vad.is_speech(audio_array, sample_rate, length)\n",
    "\n",
    "    return audio_array\n"
   ]
  },
  {
   "cell_type": "code",
   "execution_count": 30,
   "metadata": {},
   "outputs": [
    {
     "data": {
      "text/plain": [
       "array([    2,     7,    14, ..., -1573, -1559, -1511], dtype=int16)"
      ]
     },
     "execution_count": 30,
     "metadata": {},
     "output_type": "execute_result"
    }
   ],
   "source": [
    "apply_vad(temp, sample_rate=16000)\n"
   ]
  }
 ],
 "metadata": {
  "kernelspec": {
   "display_name": "base",
   "language": "python",
   "name": "python3"
  },
  "language_info": {
   "codemirror_mode": {
    "name": "ipython",
    "version": 3
   },
   "file_extension": ".py",
   "mimetype": "text/x-python",
   "name": "python",
   "nbconvert_exporter": "python",
   "pygments_lexer": "ipython3",
   "version": "3.11.5"
  }
 },
 "nbformat": 4,
 "nbformat_minor": 2
}
